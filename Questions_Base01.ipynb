{
 "cells": [
  {
   "cell_type": "markdown",
   "metadata": {},
   "source": [
    "演習問題１：\n",
    "\n",
    "for文を使って1から10までの数字を表示しなさい。"
   ]
  },
  {
   "cell_type": "markdown",
   "metadata": {},
   "source": [
    "---\n",
    "\n",
    "演習問題２：\n",
    "\n",
    "ある数字Nを入力したとき、100以上のときは\"High\"、100未満のときは\"Low\"と表示する関数を作成しなさい。"
   ]
  },
  {
   "cell_type": "markdown",
   "metadata": {},
   "source": [
    "---\n",
    "\n",
    "演習問題３：\n",
    "\n",
    "1-1000の数字がある。次の問に答えなさい。\n",
    "\n",
    "1. 150の倍数をすべて表示しなさい。【考え方】150で割ったときに0となるとき、その数字を表示する\n",
    "2. 200以上かつ150の倍数をすべて表示しなさい。【考え方】「かつ」は\"and\"で表現する\n",
    "3. 200以上かつ150の倍数の数字のとき、\"Great!\"と表示するプログラムを作成しなさい。【考え方】2の条件が満たされた時に、\"Great\"と表示する\n"
   ]
  },
  {
   "cell_type": "markdown",
   "metadata": {},
   "source": [
    "---\n",
    "\n",
    "演習問題４：\n",
    "\n",
    "1から30までの数字を偶数と奇数に分けて、それぞれlist_odd、list_evenに入れなさい。\n",
    "\n",
    "【ヒント】\n",
    "- リスト形式を使えば良いので予めlist_oddとlist_evenの空のリストを準備する：```list_odd=[]```\n",
    "- 偶数と奇数に分ける部分はif文を使って行う\n",
    "- リストへの追加は```append```メソッドを使う：例えば、```list_odd.append( )```"
   ]
  },
  {
   "cell_type": "markdown",
   "metadata": {},
   "source": [
    "---\n",
    "\n",
    "演習問題５：\n",
    "\n",
    "\"*\"を30個並べて表示するプログラムをfor文を使って作成しなさい。\n",
    "\n",
    "【ヒント】\n",
    "for文の中で繰り返し処理を使う\n",
    "```\n",
    "num = 0\n",
    "for i in range(5):\n",
    "    num = num + i\n",
    "```"
   ]
  },
  {
   "cell_type": "code",
   "execution_count": null,
   "metadata": {},
   "outputs": [],
   "source": []
  },
  {
   "cell_type": "code",
   "execution_count": null,
   "metadata": {},
   "outputs": [],
   "source": []
  }
 ],
 "metadata": {
  "kernelspec": {
   "display_name": "Python 3 (ipykernel)",
   "language": "python",
   "name": "python3"
  },
  "language_info": {
   "codemirror_mode": {
    "name": "ipython",
    "version": 3
   },
   "file_extension": ".py",
   "mimetype": "text/x-python",
   "name": "python",
   "nbconvert_exporter": "python",
   "pygments_lexer": "ipython3",
   "version": "3.8.12"
  }
 },
 "nbformat": 4,
 "nbformat_minor": 4
}
